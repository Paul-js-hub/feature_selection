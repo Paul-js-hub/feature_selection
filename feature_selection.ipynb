{
 "cells": [
  {
   "cell_type": "code",
   "execution_count": null,
   "id": "712bb3d4-8e8f-4c1d-822d-3d07073684ad",
   "metadata": {},
   "outputs": [],
   "source": [
    "import numpy as np\n",
    "import matplotlib.pyplot as plt\n",
    "from sklearn.datasets import make_regression\n",
    "from sklearn.feature_selection import SelectKBest, f_regression"
   ]
  },
  {
   "cell_type": "code",
   "execution_count": null,
   "id": "4f9116d7-2706-4134-9262-30e62afb5af1",
   "metadata": {},
   "outputs": [],
   "source": [
    "X,y = make_regression(n_samples=100, n_features=100, n_informative=10)\n",
    "X.shape"
   ]
  },
  {
   "cell_type": "code",
   "execution_count": null,
   "id": "bf3cc6e1-4f2c-4463-8a75-4ad40197aa78",
   "metadata": {},
   "outputs": [],
   "source": [
    "y"
   ]
  },
  {
   "cell_type": "code",
   "execution_count": null,
   "id": "ad5d7e2d-57ae-4a07-848d-9638fc981f58",
   "metadata": {},
   "outputs": [],
   "source": [
    "#generate feature selection\n",
    "fs = SelectKBest(f_regression, k=10)"
   ]
  },
  {
   "cell_type": "code",
   "execution_count": null,
   "id": "5b578bc7-82da-4267-bca1-7cf7456c6991",
   "metadata": {},
   "outputs": [],
   "source": [
    "#apply feature selection\n",
    "X_selected = fs.fit_transform(X, y)\n",
    "X_selected.shape"
   ]
  },
  {
   "cell_type": "code",
   "execution_count": null,
   "id": "a3d65598-36db-4087-9810-f8ffdbf5579d",
   "metadata": {},
   "outputs": [],
   "source": [
    "fs"
   ]
  },
  {
   "cell_type": "code",
   "execution_count": null,
   "id": "a5054251-91b4-48b8-becc-6796b5238b15",
   "metadata": {},
   "outputs": [],
   "source": [
    "import pandas as pd"
   ]
  },
  {
   "cell_type": "code",
   "execution_count": null,
   "id": "cd33b565-316f-4825-bef0-2e61ae094a90",
   "metadata": {},
   "outputs": [],
   "source": [
    "df = pd.read_csv('agriculture_data.csv')\n",
    "df"
   ]
  },
  {
   "cell_type": "code",
   "execution_count": null,
   "id": "87d1ed85-24ba-4d8e-bf32-1936ae84d7dc",
   "metadata": {},
   "outputs": [],
   "source": [
    "X = df.drop('Crop_Yield', axis=1)\n",
    "y = df['Crop_Yield']\n",
    "y"
   ]
  },
  {
   "cell_type": "code",
   "execution_count": null,
   "id": "b555d8b6-25e7-469a-9f71-88ea9af3c65f",
   "metadata": {},
   "outputs": [],
   "source": [
    "# fs = SelectKBest(f_regression, k=2)\n",
    "# X_selected = fs.fit_transform(X, y)\n",
    "# X_selected"
   ]
  },
  {
   "cell_type": "code",
   "execution_count": null,
   "id": "724adcfe-933f-401c-beb2-a31d14b30112",
   "metadata": {},
   "outputs": [],
   "source": [
    "import seaborn as sns\n",
    "df_data = df[['Temperature', 'Rainfall', 'Soil_pH', 'Fertilizer', 'Crop_Yield']]\n",
    "df_copy = df_data.corr()\n",
    "ax = sns.heatmap(df_copy,\n",
    "                 annot=True,\n",
    "                 linewidths=0.5,\n",
    "                 fmt=\".2f\",\n",
    "                 cmap=\"YlGnBu\")"
   ]
  },
  {
   "cell_type": "code",
   "execution_count": null,
   "id": "befd8462-d062-4785-b830-5bdd260ff8db",
   "metadata": {},
   "outputs": [],
   "source": [
    "df.dtypes"
   ]
  },
  {
   "cell_type": "code",
   "execution_count": null,
   "id": "4d7e0a4f-fb2d-49da-b572-32f11e329230",
   "metadata": {},
   "outputs": [],
   "source": [
    "#handling missing values\n",
    "\n",
    "#detect outliers\n",
    "features = ['Temperature', 'Rainfall', 'Soil_pH', 'Fertilizer', 'Crop_Yield']\n",
    "\n",
    "#plot box plots\n",
    "df[features] = np.log(df[features])\n",
    "df[features].boxplot(figsize=(8, 4))\n",
    "\n",
    "plt.title('Box Plot for Outlier Detection')\n",
    "plt.ylabel('Values')\n",
    "plt.xticks(rotation=45)\n",
    "\n",
    "# code to replace null values with median values\n",
    "numerical_cols = df.select_dtypes(include=['number']).columns\n",
    "for col in numerical_cols:\n",
    "    median = df[col].median()\n",
    "    df[col] = df[col].fillna(median) # Replace nulls with median\n",
    "\n",
    "df"
   ]
  },
  {
   "cell_type": "code",
   "execution_count": null,
   "id": "6ffa8b39-4e86-4e0f-859c-66421daca6f1",
   "metadata": {},
   "outputs": [],
   "source": [
    "df[features]"
   ]
  },
  {
   "cell_type": "markdown",
   "id": "e5fe7b2c-8e4c-4bb6-95e7-1acf9cd6908c",
   "metadata": {},
   "source": [
    "## Feature Transformation"
   ]
  },
  {
   "cell_type": "code",
   "execution_count": null,
   "id": "17886d87-d64a-4240-be01-295136639712",
   "metadata": {},
   "outputs": [],
   "source": [
    "# Identify columns containing zeros\n",
    "numerical_0s = df.loc[:, (df == 0).any()].select_dtypes(include='number').columns\n",
    "\n",
    "# Remove columns that contain zeros from considerations\n",
    "numerical_cols = numerical_cols.difference(numerical_0s)\n",
    "\n",
    "# Calculate the skewness for the remaining columns\n",
    "skewness = df[numerical_cols].skew()\n",
    "\n",
    "# Set threshold for skewness (e.g., absolute value > 1 indicates high skewness)\n",
    "skewed_columns = skewness[abs(skewness) > 1]\n",
    "\n",
    "# list of skewed features/cols\n",
    "skewed_features = ['Temperature']\n",
    "\n",
    "# Apply log transformation to each skewed feature -> convert this skewed features into Gaussian Distribution\n",
    "for col in skewed_features:\n",
    "    df[col] = np.log(df[col])\n",
    "\n",
    "skewness"
   ]
  },
  {
   "cell_type": "code",
   "execution_count": null,
   "id": "5fadac93-1415-4b8d-9cbd-8a3a711e0618",
   "metadata": {},
   "outputs": [],
   "source": [
    "temp_data = df['Temperature']\n",
    "temp_mean = temp_data.mean()\n",
    "temp_median = temp_data.median()\n",
    "temp_mode = temp_data.mode()\n",
    "temp_std = temp_data.std()\n",
    "\n",
    "skew = 3 * ((temp_mean - temp_median)) / temp_std\n",
    "print(f\"The pearson's second skewness coefficient distribution is {skew}\")\n",
    "print(f\"Mean: {temp_mean}\")\n",
    "print(f\"Median: {temp_median}\")\n",
    "print(f\"Mode: {temp_mode}\")"
   ]
  },
  {
   "cell_type": "code",
   "execution_count": null,
   "id": "a87d1e24-b9f6-46ab-b374-35dfbb2d5169",
   "metadata": {},
   "outputs": [],
   "source": [
    "mean = np.mean([1, 2, 3])\n",
    "mean"
   ]
  },
  {
   "cell_type": "markdown",
   "id": "7006a045-1bb1-451a-ac97-dcb0c94875da",
   "metadata": {},
   "source": [
    "## Kurtosis"
   ]
  },
  {
   "cell_type": "code",
   "execution_count": null,
   "id": "55143c0e-42b8-4542-8280-a39afcccd0bd",
   "metadata": {},
   "outputs": [],
   "source": [
    "agric_data = pd.read_csv('agriculture_data.csv')\n",
    "print(f\"Kurtosis for agric dataset: {agric_data.select_dtypes(include='number').kurtosis()}\")\n",
    "print(\"-----------------------------------\")\n",
    "print(f\"Kurtosis for Numerical cols: {df[numerical_cols].kurtosis()}\")"
   ]
  },
  {
   "cell_type": "markdown",
   "id": "420aa9df-c9f0-4be1-a3a2-6acecda80804",
   "metadata": {},
   "source": [
    "## Visualizing Skewness and Kurtosis"
   ]
  },
  {
   "cell_type": "code",
   "execution_count": null,
   "id": "4d679ae1-515b-4a3f-be70-e7bb468fa4fc",
   "metadata": {},
   "outputs": [],
   "source": [
    "temperatures = agric_data['Temperature']\n",
    "sns.kdeplot(temperatures)\n",
    "\n",
    "plt.title(\"KDE plot of temperature\")\n",
    "plt.xlabel(\"Temp (°C)\")\n",
    "\n",
    "#Add vertical lines at the position of mean, median, and mode\n",
    "plt.axvline(temperatures.mean(), label=\"Mean\")\n",
    "plt.axvline(temperatures.median(), color=\"black\", label=\"Median\")\n",
    "plt.axvline(temperatures.mode()[55], color=\"green\", label=\"Mode\")\n",
    "plt.legend()\n",
    "\n",
    "print(f\"Mode: {temperatures.mode()}\")\n",
    "print(\"--------------------------\")\n",
    "agric_data.mode().squeeze()"
   ]
  },
  {
   "cell_type": "code",
   "execution_count": null,
   "id": "01ccd0b0-ddd6-4936-bd3a-80d2d160e33d",
   "metadata": {},
   "outputs": [],
   "source": [
    "sns.histplot(agric_data['Temperature'], kde=True)\n",
    "plt.title(\"A Histogram of Temperature\")"
   ]
  },
  {
   "cell_type": "code",
   "execution_count": null,
   "id": "e360b195-f58b-4505-919a-a44717a2a6ee",
   "metadata": {},
   "outputs": [],
   "source": [
    "#skewness fxn\n",
    "\n",
    "def skew_fxn(data):\n",
    "    n = len(data)\n",
    "    mean = np.mean(data)\n",
    "    std = np.std(data)\n",
    "    first_part = n / ((n-1) * (n-2))\n",
    "    second_part = sum(((data - mean) / std) ** 3)\n",
    "    # print(f\"second_part: {second_part}\")\n",
    "    skewness = first_part * second_part\n",
    "    return skewness\n",
    "\n",
    "skew_fxn(agric_data[\"Temperature\"])"
   ]
  },
  {
   "cell_type": "code",
   "execution_count": null,
   "id": "55537829-0262-48ea-a50c-fc55625427ea",
   "metadata": {},
   "outputs": [],
   "source": [
    "# kurtosis fxn\n",
    "def kurtosis_fxn(data):\n",
    "    n = len(data)\n",
    "    mean = np.mean(data)\n",
    "    std = np.std(data)\n",
    "    kurt = 1 / n * sum(((data - mean) / std) ** 4) - 3\n",
    "    return kurt\n",
    "\n",
    "kurtosis_fxn(agric_data[\"Temperature\"])"
   ]
  }
 ],
 "metadata": {
  "kernelspec": {
   "display_name": "Python 3 (ipykernel)",
   "language": "python",
   "name": "python3"
  },
  "language_info": {
   "codemirror_mode": {
    "name": "ipython",
    "version": 3
   },
   "file_extension": ".py",
   "mimetype": "text/x-python",
   "name": "python",
   "nbconvert_exporter": "python",
   "pygments_lexer": "ipython3",
   "version": "3.12.4"
  }
 },
 "nbformat": 4,
 "nbformat_minor": 5
}
